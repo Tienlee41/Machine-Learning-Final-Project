{
 "cells": [
  {
   "cell_type": "code",
   "execution_count": 2,
   "metadata": {},
   "outputs": [
    {
     "name": "stdout",
     "output_type": "stream",
     "text": [
      "Requirement already satisfied: opencv-python in c:\\users\\name\\appdata\\local\\programs\\python\\python310\\lib\\site-packages (4.9.0.80)\n",
      "Requirement already satisfied: numpy>=1.21.2 in c:\\users\\name\\appdata\\local\\programs\\python\\python310\\lib\\site-packages (from opencv-python) (1.25.2)\n",
      "Requirement already satisfied: mediapipe in c:\\users\\name\\appdata\\roaming\\python\\python310\\site-packages (0.10.14)\n",
      "Requirement already satisfied: absl-py in c:\\users\\name\\appdata\\local\\programs\\python\\python310\\lib\\site-packages (from mediapipe) (2.0.0)\n",
      "Requirement already satisfied: attrs>=19.1.0 in c:\\users\\name\\appdata\\local\\programs\\python\\python310\\lib\\site-packages (from mediapipe) (23.1.0)\n",
      "Requirement already satisfied: flatbuffers>=2.0 in c:\\users\\name\\appdata\\local\\programs\\python\\python310\\lib\\site-packages (from mediapipe) (23.5.26)\n",
      "Requirement already satisfied: jax in c:\\users\\name\\appdata\\roaming\\python\\python310\\site-packages (from mediapipe) (0.4.28)\n",
      "Requirement already satisfied: jaxlib in c:\\users\\name\\appdata\\roaming\\python\\python310\\site-packages (from mediapipe) (0.4.28)\n",
      "Requirement already satisfied: matplotlib in c:\\users\\name\\appdata\\local\\programs\\python\\python310\\lib\\site-packages (from mediapipe) (3.7.1)\n",
      "Requirement already satisfied: numpy in c:\\users\\name\\appdata\\local\\programs\\python\\python310\\lib\\site-packages (from mediapipe) (1.25.2)\n",
      "Requirement already satisfied: opencv-contrib-python in c:\\users\\name\\appdata\\roaming\\python\\python310\\site-packages (from mediapipe) (4.9.0.80)\n",
      "Requirement already satisfied: protobuf<5,>=4.25.3 in c:\\users\\name\\appdata\\local\\programs\\python\\python310\\lib\\site-packages (from mediapipe) (4.25.3)\n",
      "Requirement already satisfied: sounddevice>=0.4.4 in c:\\users\\name\\appdata\\roaming\\python\\python310\\site-packages (from mediapipe) (0.4.7)\n",
      "Requirement already satisfied: CFFI>=1.0 in c:\\users\\name\\appdata\\local\\programs\\python\\python310\\lib\\site-packages (from sounddevice>=0.4.4->mediapipe) (1.15.1)\n",
      "Requirement already satisfied: ml-dtypes>=0.2.0 in c:\\users\\name\\appdata\\local\\programs\\python\\python310\\lib\\site-packages (from jax->mediapipe) (0.2.0)\n",
      "Requirement already satisfied: opt-einsum in c:\\users\\name\\appdata\\local\\programs\\python\\python310\\lib\\site-packages (from jax->mediapipe) (3.3.0)\n",
      "Requirement already satisfied: scipy>=1.9 in c:\\users\\name\\appdata\\local\\programs\\python\\python310\\lib\\site-packages (from jax->mediapipe) (1.9.2)\n",
      "Requirement already satisfied: contourpy>=1.0.1 in c:\\users\\name\\appdata\\local\\programs\\python\\python310\\lib\\site-packages (from matplotlib->mediapipe) (1.0.7)\n",
      "Requirement already satisfied: cycler>=0.10 in c:\\users\\name\\appdata\\local\\programs\\python\\python310\\lib\\site-packages (from matplotlib->mediapipe) (0.11.0)\n",
      "Requirement already satisfied: fonttools>=4.22.0 in c:\\users\\name\\appdata\\local\\programs\\python\\python310\\lib\\site-packages (from matplotlib->mediapipe) (4.39.3)\n",
      "Requirement already satisfied: kiwisolver>=1.0.1 in c:\\users\\name\\appdata\\local\\programs\\python\\python310\\lib\\site-packages (from matplotlib->mediapipe) (1.4.4)\n",
      "Requirement already satisfied: packaging>=20.0 in c:\\users\\name\\appdata\\local\\programs\\python\\python310\\lib\\site-packages (from matplotlib->mediapipe) (23.0)\n",
      "Requirement already satisfied: pillow>=6.2.0 in c:\\users\\name\\appdata\\local\\programs\\python\\python310\\lib\\site-packages (from matplotlib->mediapipe) (9.2.0)\n",
      "Requirement already satisfied: pyparsing>=2.3.1 in c:\\users\\name\\appdata\\local\\programs\\python\\python310\\lib\\site-packages (from matplotlib->mediapipe) (3.0.9)\n",
      "Requirement already satisfied: python-dateutil>=2.7 in c:\\users\\name\\appdata\\local\\programs\\python\\python310\\lib\\site-packages (from matplotlib->mediapipe) (2.8.2)\n",
      "Requirement already satisfied: pycparser in c:\\users\\name\\appdata\\local\\programs\\python\\python310\\lib\\site-packages (from CFFI>=1.0->sounddevice>=0.4.4->mediapipe) (2.21)\n",
      "Requirement already satisfied: six>=1.5 in c:\\users\\name\\appdata\\local\\programs\\python\\python310\\lib\\site-packages (from python-dateutil>=2.7->matplotlib->mediapipe) (1.16.0)\n",
      "Requirement already satisfied: scikit-learn in c:\\users\\name\\appdata\\local\\programs\\python\\python310\\lib\\site-packages (1.3.2)\n",
      "Requirement already satisfied: numpy<2.0,>=1.17.3 in c:\\users\\name\\appdata\\local\\programs\\python\\python310\\lib\\site-packages (from scikit-learn) (1.25.2)\n",
      "Requirement already satisfied: scipy>=1.5.0 in c:\\users\\name\\appdata\\local\\programs\\python\\python310\\lib\\site-packages (from scikit-learn) (1.9.2)\n",
      "Requirement already satisfied: joblib>=1.1.1 in c:\\users\\name\\appdata\\local\\programs\\python\\python310\\lib\\site-packages (from scikit-learn) (1.2.0)\n",
      "Requirement already satisfied: threadpoolctl>=2.0.0 in c:\\users\\name\\appdata\\local\\programs\\python\\python310\\lib\\site-packages (from scikit-learn) (3.1.0)\n",
      "WARNING:tensorflow:From c:\\Users\\NAME\\AppData\\Local\\Programs\\Python\\Python310\\lib\\site-packages\\keras\\src\\losses.py:2976: The name tf.losses.sparse_softmax_cross_entropy is deprecated. Please use tf.compat.v1.losses.sparse_softmax_cross_entropy instead.\n",
      "\n"
     ]
    }
   ],
   "source": [
    "!pip install opencv-python\n",
    "!pip install mediapipe\n",
    "!pip install scikit-learn\n",
    "import cv2\n",
    "import mediapipe as mp\n",
    "import pandas as pd\n",
    "import numpy as np"
   ]
  },
  {
   "cell_type": "code",
   "execution_count": 3,
   "metadata": {},
   "outputs": [
    {
     "data": {
      "text/html": [
       "<div>\n",
       "<style scoped>\n",
       "    .dataframe tbody tr th:only-of-type {\n",
       "        vertical-align: middle;\n",
       "    }\n",
       "\n",
       "    .dataframe tbody tr th {\n",
       "        vertical-align: top;\n",
       "    }\n",
       "\n",
       "    .dataframe thead th {\n",
       "        text-align: right;\n",
       "    }\n",
       "</style>\n",
       "<table border=\"1\" class=\"dataframe\">\n",
       "  <thead>\n",
       "    <tr style=\"text-align: right;\">\n",
       "      <th></th>\n",
       "      <th>class</th>\n",
       "      <th>x1</th>\n",
       "      <th>y1</th>\n",
       "      <th>z1</th>\n",
       "      <th>x2</th>\n",
       "      <th>y2</th>\n",
       "      <th>z2</th>\n",
       "      <th>x3</th>\n",
       "      <th>y3</th>\n",
       "      <th>z3</th>\n",
       "      <th>...</th>\n",
       "      <th>z18</th>\n",
       "      <th>x19</th>\n",
       "      <th>y19</th>\n",
       "      <th>z19</th>\n",
       "      <th>x20</th>\n",
       "      <th>y20</th>\n",
       "      <th>z20</th>\n",
       "      <th>x21</th>\n",
       "      <th>y21</th>\n",
       "      <th>z21</th>\n",
       "    </tr>\n",
       "  </thead>\n",
       "  <tbody>\n",
       "    <tr>\n",
       "      <th>0</th>\n",
       "      <td>A</td>\n",
       "      <td>0.295850</td>\n",
       "      <td>0.679612</td>\n",
       "      <td>-0.000096</td>\n",
       "      <td>0.209040</td>\n",
       "      <td>0.612928</td>\n",
       "      <td>-0.023747</td>\n",
       "      <td>0.147883</td>\n",
       "      <td>0.522419</td>\n",
       "      <td>-0.052014</td>\n",
       "      <td>...</td>\n",
       "      <td>-0.120316</td>\n",
       "      <td>0.362393</td>\n",
       "      <td>0.452242</td>\n",
       "      <td>-0.179164</td>\n",
       "      <td>0.351851</td>\n",
       "      <td>0.504387</td>\n",
       "      <td>-0.187443</td>\n",
       "      <td>0.340518</td>\n",
       "      <td>0.553924</td>\n",
       "      <td>-0.175188</td>\n",
       "    </tr>\n",
       "    <tr>\n",
       "      <th>1</th>\n",
       "      <td>A</td>\n",
       "      <td>0.277925</td>\n",
       "      <td>0.728130</td>\n",
       "      <td>-0.000136</td>\n",
       "      <td>0.168688</td>\n",
       "      <td>0.634555</td>\n",
       "      <td>-0.033070</td>\n",
       "      <td>0.107134</td>\n",
       "      <td>0.489586</td>\n",
       "      <td>-0.055183</td>\n",
       "      <td>...</td>\n",
       "      <td>-0.102242</td>\n",
       "      <td>0.402341</td>\n",
       "      <td>0.455794</td>\n",
       "      <td>-0.203579</td>\n",
       "      <td>0.359925</td>\n",
       "      <td>0.538469</td>\n",
       "      <td>-0.187322</td>\n",
       "      <td>0.352813</td>\n",
       "      <td>0.605608</td>\n",
       "      <td>-0.130801</td>\n",
       "    </tr>\n",
       "    <tr>\n",
       "      <th>2</th>\n",
       "      <td>A</td>\n",
       "      <td>0.273304</td>\n",
       "      <td>0.750423</td>\n",
       "      <td>-0.000280</td>\n",
       "      <td>0.153821</td>\n",
       "      <td>0.649117</td>\n",
       "      <td>-0.048802</td>\n",
       "      <td>0.087932</td>\n",
       "      <td>0.492968</td>\n",
       "      <td>-0.081465</td>\n",
       "      <td>...</td>\n",
       "      <td>-0.170817</td>\n",
       "      <td>0.392500</td>\n",
       "      <td>0.475128</td>\n",
       "      <td>-0.278433</td>\n",
       "      <td>0.353112</td>\n",
       "      <td>0.558543</td>\n",
       "      <td>-0.277697</td>\n",
       "      <td>0.348973</td>\n",
       "      <td>0.624014</td>\n",
       "      <td>-0.238443</td>\n",
       "    </tr>\n",
       "    <tr>\n",
       "      <th>3</th>\n",
       "      <td>A</td>\n",
       "      <td>0.260785</td>\n",
       "      <td>0.758582</td>\n",
       "      <td>-0.000321</td>\n",
       "      <td>0.142455</td>\n",
       "      <td>0.658148</td>\n",
       "      <td>-0.053022</td>\n",
       "      <td>0.081539</td>\n",
       "      <td>0.496765</td>\n",
       "      <td>-0.087127</td>\n",
       "      <td>...</td>\n",
       "      <td>-0.187121</td>\n",
       "      <td>0.380870</td>\n",
       "      <td>0.484205</td>\n",
       "      <td>-0.293946</td>\n",
       "      <td>0.343786</td>\n",
       "      <td>0.567714</td>\n",
       "      <td>-0.288283</td>\n",
       "      <td>0.341316</td>\n",
       "      <td>0.632236</td>\n",
       "      <td>-0.246376</td>\n",
       "    </tr>\n",
       "    <tr>\n",
       "      <th>4</th>\n",
       "      <td>A</td>\n",
       "      <td>0.264719</td>\n",
       "      <td>0.761650</td>\n",
       "      <td>-0.000305</td>\n",
       "      <td>0.144017</td>\n",
       "      <td>0.670226</td>\n",
       "      <td>-0.042637</td>\n",
       "      <td>0.077719</td>\n",
       "      <td>0.505534</td>\n",
       "      <td>-0.072984</td>\n",
       "      <td>...</td>\n",
       "      <td>-0.230434</td>\n",
       "      <td>0.386972</td>\n",
       "      <td>0.488222</td>\n",
       "      <td>-0.329943</td>\n",
       "      <td>0.355973</td>\n",
       "      <td>0.573531</td>\n",
       "      <td>-0.333138</td>\n",
       "      <td>0.350643</td>\n",
       "      <td>0.638749</td>\n",
       "      <td>-0.303180</td>\n",
       "    </tr>\n",
       "  </tbody>\n",
       "</table>\n",
       "<p>5 rows × 64 columns</p>\n",
       "</div>"
      ],
      "text/plain": [
       "  class        x1        y1        z1        x2        y2        z2        x3  \\\n",
       "0     A  0.295850  0.679612 -0.000096  0.209040  0.612928 -0.023747  0.147883   \n",
       "1     A  0.277925  0.728130 -0.000136  0.168688  0.634555 -0.033070  0.107134   \n",
       "2     A  0.273304  0.750423 -0.000280  0.153821  0.649117 -0.048802  0.087932   \n",
       "3     A  0.260785  0.758582 -0.000321  0.142455  0.658148 -0.053022  0.081539   \n",
       "4     A  0.264719  0.761650 -0.000305  0.144017  0.670226 -0.042637  0.077719   \n",
       "\n",
       "         y3        z3  ...       z18       x19       y19       z19       x20  \\\n",
       "0  0.522419 -0.052014  ... -0.120316  0.362393  0.452242 -0.179164  0.351851   \n",
       "1  0.489586 -0.055183  ... -0.102242  0.402341  0.455794 -0.203579  0.359925   \n",
       "2  0.492968 -0.081465  ... -0.170817  0.392500  0.475128 -0.278433  0.353112   \n",
       "3  0.496765 -0.087127  ... -0.187121  0.380870  0.484205 -0.293946  0.343786   \n",
       "4  0.505534 -0.072984  ... -0.230434  0.386972  0.488222 -0.329943  0.355973   \n",
       "\n",
       "        y20       z20       x21       y21       z21  \n",
       "0  0.504387 -0.187443  0.340518  0.553924 -0.175188  \n",
       "1  0.538469 -0.187322  0.352813  0.605608 -0.130801  \n",
       "2  0.558543 -0.277697  0.348973  0.624014 -0.238443  \n",
       "3  0.567714 -0.288283  0.341316  0.632236 -0.246376  \n",
       "4  0.573531 -0.333138  0.350643  0.638749 -0.303180  \n",
       "\n",
       "[5 rows x 64 columns]"
      ]
     },
     "execution_count": 3,
     "metadata": {},
     "output_type": "execute_result"
    }
   ],
   "source": [
    "dataset = pd.read_csv('./hand_dataset.csv')\n",
    "\n",
    "dataset.head()"
   ]
  },
  {
   "cell_type": "code",
   "execution_count": 4,
   "metadata": {},
   "outputs": [
    {
     "data": {
      "text/plain": [
       "class\n",
       "A    1000\n",
       "B    1000\n",
       "Y    1000\n",
       "X    1000\n",
       "W    1000\n",
       "V    1000\n",
       "U    1000\n",
       "T    1000\n",
       "S    1000\n",
       "R    1000\n",
       "Q    1000\n",
       "P    1000\n",
       "O    1000\n",
       "N    1000\n",
       "M    1000\n",
       "L    1000\n",
       "K    1000\n",
       "J    1000\n",
       "I    1000\n",
       "H    1000\n",
       "G    1000\n",
       "F    1000\n",
       "E    1000\n",
       "D    1000\n",
       "C    1000\n",
       "Z    1000\n",
       "Name: count, dtype: int64"
      ]
     },
     "execution_count": 4,
     "metadata": {},
     "output_type": "execute_result"
    }
   ],
   "source": [
    "dataset['class'].value_counts()"
   ]
  },
  {
   "cell_type": "markdown",
   "metadata": {},
   "source": [
    "## Tạo tập train và tập test"
   ]
  },
  {
   "cell_type": "code",
   "execution_count": 5,
   "metadata": {},
   "outputs": [],
   "source": [
    "# Defining X and Y from dataset for training and testing\n",
    "from sklearn.model_selection import train_test_split\n",
    "X = dataset.iloc[:, 1:].values\n",
    "Y = dataset.iloc[:, 0].values\n",
    "X_train, X_test, y_train, y_test = train_test_split(X, Y, test_size=0.33)\n"
   ]
  },
  {
   "cell_type": "markdown",
   "metadata": {},
   "source": [
    "## Tạo model Knn "
   ]
  },
  {
   "cell_type": "code",
   "execution_count": 6,
   "metadata": {},
   "outputs": [
    {
     "data": {
      "text/html": [
       "<style>#sk-container-id-1 {color: black;}#sk-container-id-1 pre{padding: 0;}#sk-container-id-1 div.sk-toggleable {background-color: white;}#sk-container-id-1 label.sk-toggleable__label {cursor: pointer;display: block;width: 100%;margin-bottom: 0;padding: 0.3em;box-sizing: border-box;text-align: center;}#sk-container-id-1 label.sk-toggleable__label-arrow:before {content: \"▸\";float: left;margin-right: 0.25em;color: #696969;}#sk-container-id-1 label.sk-toggleable__label-arrow:hover:before {color: black;}#sk-container-id-1 div.sk-estimator:hover label.sk-toggleable__label-arrow:before {color: black;}#sk-container-id-1 div.sk-toggleable__content {max-height: 0;max-width: 0;overflow: hidden;text-align: left;background-color: #f0f8ff;}#sk-container-id-1 div.sk-toggleable__content pre {margin: 0.2em;color: black;border-radius: 0.25em;background-color: #f0f8ff;}#sk-container-id-1 input.sk-toggleable__control:checked~div.sk-toggleable__content {max-height: 200px;max-width: 100%;overflow: auto;}#sk-container-id-1 input.sk-toggleable__control:checked~label.sk-toggleable__label-arrow:before {content: \"▾\";}#sk-container-id-1 div.sk-estimator input.sk-toggleable__control:checked~label.sk-toggleable__label {background-color: #d4ebff;}#sk-container-id-1 div.sk-label input.sk-toggleable__control:checked~label.sk-toggleable__label {background-color: #d4ebff;}#sk-container-id-1 input.sk-hidden--visually {border: 0;clip: rect(1px 1px 1px 1px);clip: rect(1px, 1px, 1px, 1px);height: 1px;margin: -1px;overflow: hidden;padding: 0;position: absolute;width: 1px;}#sk-container-id-1 div.sk-estimator {font-family: monospace;background-color: #f0f8ff;border: 1px dotted black;border-radius: 0.25em;box-sizing: border-box;margin-bottom: 0.5em;}#sk-container-id-1 div.sk-estimator:hover {background-color: #d4ebff;}#sk-container-id-1 div.sk-parallel-item::after {content: \"\";width: 100%;border-bottom: 1px solid gray;flex-grow: 1;}#sk-container-id-1 div.sk-label:hover label.sk-toggleable__label {background-color: #d4ebff;}#sk-container-id-1 div.sk-serial::before {content: \"\";position: absolute;border-left: 1px solid gray;box-sizing: border-box;top: 0;bottom: 0;left: 50%;z-index: 0;}#sk-container-id-1 div.sk-serial {display: flex;flex-direction: column;align-items: center;background-color: white;padding-right: 0.2em;padding-left: 0.2em;position: relative;}#sk-container-id-1 div.sk-item {position: relative;z-index: 1;}#sk-container-id-1 div.sk-parallel {display: flex;align-items: stretch;justify-content: center;background-color: white;position: relative;}#sk-container-id-1 div.sk-item::before, #sk-container-id-1 div.sk-parallel-item::before {content: \"\";position: absolute;border-left: 1px solid gray;box-sizing: border-box;top: 0;bottom: 0;left: 50%;z-index: -1;}#sk-container-id-1 div.sk-parallel-item {display: flex;flex-direction: column;z-index: 1;position: relative;background-color: white;}#sk-container-id-1 div.sk-parallel-item:first-child::after {align-self: flex-end;width: 50%;}#sk-container-id-1 div.sk-parallel-item:last-child::after {align-self: flex-start;width: 50%;}#sk-container-id-1 div.sk-parallel-item:only-child::after {width: 0;}#sk-container-id-1 div.sk-dashed-wrapped {border: 1px dashed gray;margin: 0 0.4em 0.5em 0.4em;box-sizing: border-box;padding-bottom: 0.4em;background-color: white;}#sk-container-id-1 div.sk-label label {font-family: monospace;font-weight: bold;display: inline-block;line-height: 1.2em;}#sk-container-id-1 div.sk-label-container {text-align: center;}#sk-container-id-1 div.sk-container {/* jupyter's `normalize.less` sets `[hidden] { display: none; }` but bootstrap.min.css set `[hidden] { display: none !important; }` so we also need the `!important` here to be able to override the default hidden behavior on the sphinx rendered scikit-learn.org. See: https://github.com/scikit-learn/scikit-learn/issues/21755 */display: inline-block !important;position: relative;}#sk-container-id-1 div.sk-text-repr-fallback {display: none;}</style><div id=\"sk-container-id-1\" class=\"sk-top-container\"><div class=\"sk-text-repr-fallback\"><pre>KNeighborsClassifier(n_neighbors=3)</pre><b>In a Jupyter environment, please rerun this cell to show the HTML representation or trust the notebook. <br />On GitHub, the HTML representation is unable to render, please try loading this page with nbviewer.org.</b></div><div class=\"sk-container\" hidden><div class=\"sk-item\"><div class=\"sk-estimator sk-toggleable\"><input class=\"sk-toggleable__control sk-hidden--visually\" id=\"sk-estimator-id-1\" type=\"checkbox\" checked><label for=\"sk-estimator-id-1\" class=\"sk-toggleable__label sk-toggleable__label-arrow\">KNeighborsClassifier</label><div class=\"sk-toggleable__content\"><pre>KNeighborsClassifier(n_neighbors=3)</pre></div></div></div></div></div>"
      ],
      "text/plain": [
       "KNeighborsClassifier(n_neighbors=3)"
      ]
     },
     "execution_count": 6,
     "metadata": {},
     "output_type": "execute_result"
    }
   ],
   "source": [
    "from sklearn.neighbors import KNeighborsClassifier\n",
    "classifier = KNeighborsClassifier(n_neighbors=3)\n",
    "classifier.fit(X_train, y_train)"
   ]
  },
  {
   "cell_type": "markdown",
   "metadata": {},
   "source": [
    "## Đánh giá mô hình"
   ]
  },
  {
   "cell_type": "code",
   "execution_count": 7,
   "metadata": {},
   "outputs": [],
   "source": [
    "y_pred = classifier.predict(X_test)"
   ]
  },
  {
   "cell_type": "code",
   "execution_count": null,
   "metadata": {},
   "outputs": [],
   "source": []
  },
  {
   "cell_type": "code",
   "execution_count": 8,
   "metadata": {},
   "outputs": [
    {
     "name": "stdout",
     "output_type": "stream",
     "text": [
      "              precision    recall  f1-score   support\n",
      "\n",
      "           A       0.93      0.99      0.96       315\n",
      "           B       0.98      0.99      0.98       357\n",
      "           C       0.95      0.99      0.97       358\n",
      "           D       0.98      0.97      0.97       341\n",
      "           E       0.94      0.98      0.96       321\n",
      "           F       0.98      0.98      0.98       340\n",
      "           G       0.98      0.99      0.98       320\n",
      "           H       0.99      0.99      0.99       336\n",
      "           I       0.97      0.97      0.97       299\n",
      "           J       0.98      0.94      0.96       323\n",
      "           K       0.96      0.99      0.98       320\n",
      "           L       0.99      0.96      0.98       338\n",
      "           M       0.86      0.87      0.87       349\n",
      "           N       0.84      0.89      0.86       316\n",
      "           O       0.96      0.92      0.94       328\n",
      "           P       0.96      0.96      0.96       322\n",
      "           Q       0.94      0.94      0.94       322\n",
      "           R       0.92      0.92      0.92       321\n",
      "           S       0.92      0.90      0.91       309\n",
      "           T       0.97      0.96      0.96       319\n",
      "           U       0.82      0.90      0.85       305\n",
      "           V       0.94      0.84      0.89       361\n",
      "           W       0.99      0.96      0.98       360\n",
      "           X       0.92      0.90      0.91       332\n",
      "           Y       0.97      0.95      0.96       347\n",
      "           Z       0.99      0.99      0.99       321\n",
      "\n",
      "    accuracy                           0.95      8580\n",
      "   macro avg       0.95      0.95      0.95      8580\n",
      "weighted avg       0.95      0.95      0.95      8580\n",
      "\n",
      "0.9467365967365967\n"
     ]
    }
   ],
   "source": [
    "from sklearn.metrics import classification_report, accuracy_score\n",
    "print(classification_report(y_test, y_pred))\n",
    "print(accuracy_score(y_test, y_pred))"
   ]
  },
  {
   "cell_type": "markdown",
   "metadata": {},
   "source": [
    "## graph for adjusting number of n_neighbors"
   ]
  },
  {
   "cell_type": "code",
   "execution_count": 9,
   "metadata": {},
   "outputs": [],
   "source": [
    "error = []\n",
    "\n",
    "# Calculating error for K values between 1 and 40\n",
    "for i in range(1, 40):\n",
    "    knn = KNeighborsClassifier(n_neighbors=i)\n",
    "    knn.fit(X_train, y_train)\n",
    "    pred_i = knn.predict(X_test)\n",
    "    error.append(np.mean(pred_i != y_test))"
   ]
  },
  {
   "cell_type": "code",
   "execution_count": 10,
   "metadata": {},
   "outputs": [
    {
     "data": {
      "text/plain": [
       "Text(0, 0.5, 'Mean Error')"
      ]
     },
     "execution_count": 10,
     "metadata": {},
     "output_type": "execute_result"
    },
    {
     "data": {
      "image/png": "[encoded data removed]",
      "text/plain": [
       "<Figure size 1200x600 with 1 Axes>"
      ]
     },
     "metadata": {},
     "output_type": "display_data"
    }
   ],
   "source": [
    "import matplotlib.pyplot as plt\n",
    "\n",
    "plt.figure(figsize=(12, 6))\n",
    "plt.plot(range(1, 40), error, color='red', linestyle='dashed', marker='o',\n",
    "         markerfacecolor='blue', markersize=10)\n",
    "plt.title('Error Rate K Value')\n",
    "plt.xlabel('K Value')\n",
    "plt.ylabel('Mean Error')"
   ]
  }
 ],
 "metadata": {
  "kernelspec": {
   "display_name": "Python 3",
   "language": "python",
   "name": "python3"
  },
  "language_info": {
   "codemirror_mode": {
    "name": "ipython",
    "version": 3
   },
   "file_extension": ".py",
   "mimetype": "text/x-python",
   "name": "python",
   "nbconvert_exporter": "python",
   "pygments_lexer": "ipython3",
   "version": "3.10.6"
  }
 },
 "nbformat": 4,
 "nbformat_minor": 2
}
